{
 "cells": [
  {
   "cell_type": "code",
   "execution_count": 37,
   "metadata": {},
   "outputs": [
    {
     "name": "stdout",
     "output_type": "stream",
     "text": [
      "https://rent.591.com.tw/rent-detail-7523284.html\n",
      "https://rent.591.com.tw/rent-detail-7505990.html\n",
      "https://rent.591.com.tw/rent-detail-7503415.html\n",
      "https://rent.591.com.tw/rent-detail-7478094.html\n",
      "https://rent.591.com.tw/rent-detail-7422770.html\n",
      "https://rent.591.com.tw/rent-detail-7519426.html\n",
      "https://rent.591.com.tw/rent-detail-7409653.html\n",
      "https://rent.591.com.tw/rent-detail-7490474.html\n",
      "https://rent.591.com.tw/rent-detail-7416204.html\n",
      "https://rent.591.com.tw/rent-detail-7492608.html\n",
      "https://rent.591.com.tw/rent-detail-7492609.html\n",
      "https://rent.591.com.tw/rent-detail-7461184.html\n",
      "https://rent.591.com.tw/rent-detail-7516651.html\n",
      "https://rent.591.com.tw/rent-detail-7444209.html\n",
      "https://rent.591.com.tw/rent-detail-7507168.html\n",
      "https://rent.591.com.tw/rent-detail-7504545.html\n",
      "https://rent.591.com.tw/rent-detail-7521568.html\n",
      "https://rent.591.com.tw/rent-detail-7517708.html\n",
      "https://rent.591.com.tw/rent-detail-7521284.html\n",
      "https://rent.591.com.tw/rent-detail-7519528.html\n",
      "https://rent.591.com.tw/rent-detail-7482998.html\n",
      "https://rent.591.com.tw/rent-detail-7520101.html\n",
      "https://rent.591.com.tw/rent-detail-7502242.html\n",
      "https://rent.591.com.tw/rent-detail-7518193.html\n",
      "https://rent.591.com.tw/rent-detail-7517660.html\n",
      "https://rent.591.com.tw/rent-detail-7468778.html\n",
      "https://rent.591.com.tw/rent-detail-7469762.html\n",
      "https://rent.591.com.tw/rent-detail-7433906.html\n",
      "https://rent.591.com.tw/rent-detail-7502597.html\n",
      "https://rent.591.com.tw/rent-detail-7500599.html\n"
     ]
    }
   ],
   "source": [
    "import urllib.request as req\n",
    "import requests\n",
    "import json\n",
    "import bs4\n",
    "\n",
    "url = {\n",
    "    \"ptt_movie\": \"https://www.ptt.cc/bbs/movie/index.html\",\n",
    "    \"rent591\": \"https://rent.591.com.tw/home/search/rsList\"\n",
    "}\n",
    "payload=\"\"\n",
    "querystring = {\n",
    "    \"is_new_list\": \"1\",\n",
    "    \"type\": \"1\",\n",
    "    \"kind\": \"2\",\n",
    "    \"searchtype\": \"4\",\n",
    "    \"mrtline\": \"168\",\n",
    "    \"region\": \"1\",\n",
    "    \"mrt\": \"1\",\n",
    "    \"mrtcoods\": \"4261\",\n",
    "    \"rentprice\": \"2\",\n",
    "    \"area\": \"0,0\",\n",
    "    \"sex\": \"0\"\n",
    "}\n",
    "headers = {\n",
    "    \"Accept\": \"application/json, text/javascript, */*; q=0.01\",\n",
    "    \"Accept-Encoding\": \"gzip, deflate, br\",\n",
    "    \"Accept-Language\": \"zh-TW,zh;q=0.9,en-US;q=0.8,en;q=0.7\",\n",
    "    \"Cache-Control\": \"no-cache\",\n",
    "    \"Connection\": \"keep-alive\",\n",
    "    \"Cookie\": \"webp=1; PHPSESSID=fuo33dh4cv1r2busree0jik4q1; urlJumpIp=1; urlJumpIpByTxt=%E5%8F%B0%E5%8C%97%E5%B8%82; T591_TOKEN=fuo33dh4cv1r2busree0jik4q1; _ga=GA1.3.1887667457.1553101205; _ga=GA1.4.1887667457.1553101205; userLoginHttpReferer=https%253A%252F%252Frent.591.com.tw%252F%253Fkind%253D0%2526region%253D1; __auc=85d17283169afdb0ba3d317b26d; u_info=q%2BcGN7VG%2FelhHOmuk27Y%2BAdTJvWGLfJBOP6oK6k; 591equipment=01321590015534338692113236; user_index_role=1; localTime=2; imgClick=7458553; is_new_index=1; is_new_index_redirect=1; _gid=GA1.3.179550781.1554048271; cookie_login_user_id=2113236; c10f3143a018a0513ebe1e8d27b5391c=1; _gid=GA1.4.179550781.1554048271; new_rent_list_kind_test=0; loginNoticeStatus=1; loginNoticeNumber=1; user_browse_recent=a%3A5%3A%7Bi%3A0%3Ba%3A2%3A%7Bs%3A4%3A%22type%22%3Bi%3A1%3Bs%3A7%3A%22post_id%22%3Bs%3A7%3A%227519426%22%3B%7Di%3A1%3Ba%3A2%3A%7Bs%3A4%3A%22type%22%3Bi%3A1%3Bs%3A7%3A%22post_id%22%3Bs%3A7%3A%227490474%22%3B%7Di%3A2%3Ba%3A2%3A%7Bs%3A4%3A%22type%22%3Bi%3A1%3Bs%3A7%3A%22post_id%22%3Bs%3A7%3A%227503415%22%3B%7Di%3A3%3Ba%3A2%3A%7Bs%3A4%3A%22type%22%3Bi%3A1%3Bs%3A7%3A%22post_id%22%3Bs%3A7%3A%227490127%22%3B%7Di%3A4%3Ba%3A2%3A%7Bs%3A4%3A%22type%22%3Bi%3A1%3Bs%3A7%3A%22post_id%22%3Bs%3A7%3A%227515239%22%3B%7D%7D; ba_cid=a%3A5%3A%7Bs%3A6%3A%22ba_cid%22%3Bs%3A32%3A%229c02a377ef38e4239371cb6f5afbe8f2%22%3Bs%3A7%3A%22page_ex%22%3Bs%3A48%3A%22https%3A%2F%2Frent.591.com.tw%2Frent-detail-7490474.html%22%3Bs%3A4%3A%22page%22%3Bs%3A48%3A%22https%3A%2F%2Frent.591.com.tw%2Frent-detail-7519426.html%22%3Bs%3A7%3A%22time_ex%22%3Bi%3A1554055389%3Bs%3A4%3A%22time%22%3Bi%3A1554055393%3B%7D; last_search_type=1; _gat_UA-97423186-1=1; _gat=1; XSRF-TOKEN=eyJpdiI6IkFhOHh3V2ZIdFdsN0VjM3crdFMrb3c9PSIsInZhbHVlIjoiMm9PdWhNTU05aFdobHpwXC9BUDFETDk0XC9rd25pZngxdXg1MWl1ZGJiSXBWdWtnV00xVW4raCtDM0VqNU9cL0VYcngxREM2V2tPK3pxWHY1K0ZqWnk1Y1E9PSIsIm1hYyI6IjYxYzY0OTVhMDBkN2FkZmMwNzhiYTRmNzRhNmRiMjA1OTJmZDNmMmIxOWY3YmQ0M2EzNzQzZDUzNGI1OTk0MzAifQ%3D%3D; 591_new_session=eyJpdiI6Im1iN1VMMkJYR1J4bmxGN1pWcTdYc2c9PSIsInZhbHVlIjoiZmM0RCs5TUM3bHJKSklWbk12VkJVaHQ3TXpsNGhhV3p3QTgxVUw4TDZiSW9TSFFpREU0enoxdWFPeFhmXC9EcEZTdTJHamZnRWI2WFQxVXdTeVNcL0tvdz09IiwibWFjIjoiMDIyZDUxOTlhYTZjNjgxZmY2ZDJkMjA5ODAxZjRlOGQxZDA4ODBiOWVhNDkzMmViMDllZmY1ZmM5NjNiMmJhMCJ9\",\n",
    "    \"Host\": \"rent.591.com.tw\",\n",
    "    \"Pragma\": \"no-cache\",\n",
    "    \"User-Agent\": \"Mozilla/5.0 (Macintosh; Intel Mac OS X 10_14_2) AppleWebKit/537.36 (KHTML, like Gecko) Chrome/71.0.3578.98 Safari/537.36\",\n",
    "    \"X-CSRF-TOKEN\": \"19pD41yCeHJiylH0AGb4FI626tSlNbhIjNmeNe85\",\n",
    "    \"X-Requested-With\": \"XMLHttpRequest\"\n",
    "}\n",
    "\n",
    "response = requests.request(\"GET\", url[\"rent591\"], data=payload, headers=headers, params=querystring)\n",
    "\n",
    "soup = BeautifulSoup(response.text, \"html.parser\")\n",
    "\n",
    "json_result = json.loads(response.text)\n",
    "result_list = json_result[\"data\"][\"data\"]\n",
    "# print(result_list)\n",
    "\n",
    "rent_details_url = \"https://rent.591.com.tw/rent-detail-{}.html\"\n",
    "rent_details_url_list = []\n",
    "for i,obj in enumerate(result_list):\n",
    "    rent_details_url_list.append(rent_details_url.format(obj[\"id\"]))\n",
    "    print(rent_details_url_list[i])\n"
   ]
  },
  {
   "cell_type": "code",
   "execution_count": null,
   "metadata": {},
   "outputs": [],
   "source": []
  }
 ],
 "metadata": {
  "kernelspec": {
   "display_name": "Python 3",
   "language": "python",
   "name": "python3"
  },
  "language_info": {
   "codemirror_mode": {
    "name": "ipython",
    "version": 3
   },
   "file_extension": ".py",
   "mimetype": "text/x-python",
   "name": "python",
   "nbconvert_exporter": "python",
   "pygments_lexer": "ipython3",
   "version": "3.7.2"
  }
 },
 "nbformat": 4,
 "nbformat_minor": 2
}
